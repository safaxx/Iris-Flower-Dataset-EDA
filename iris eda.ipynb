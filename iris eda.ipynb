{
 "cells": [
  {
   "cell_type": "markdown",
   "id": "a167c994",
   "metadata": {},
   "source": [
    "# EDA on Iris Dataset"
   ]
  },
  {
   "cell_type": "markdown",
   "id": "503909f5",
   "metadata": {},
   "source": [
    "## Data Acquisition\n",
    "There are various formats for a dataset: __.csv, .json, .xlsx__ etc. The dataset can be stored in different places, on your local machine or sometimes online.\n",
    "\n",
    "\n",
    "In this case, the Iris Dataset is an online source, and it is in a __CSV (comma separated value)__ format. We load it in Jupyter Notebook."
   ]
  },
  {
   "cell_type": "code",
   "execution_count": 2,
   "id": "6d8195ca",
   "metadata": {},
   "outputs": [],
   "source": [
    "#importing pandas library \n",
    "import pandas as pd\n",
    "import numpy as np"
   ]
  },
  {
   "cell_type": "markdown",
   "id": "e68da748",
   "metadata": {},
   "source": [
    "## Read Data\n",
    "We use __pandas.read_csv()__ function to read the csv file.The file path can be either an URL or a local file address.\n",
    "Because the data does not include headers, we can add an argument __headers = None__ inside the read_csv() method so that pandas will not automatically set the first row as a header."
   ]
  },
  {
   "cell_type": "code",
   "execution_count": 3,
   "id": "81d8e63c",
   "metadata": {},
   "outputs": [],
   "source": [
    "#reading the online file by the URL and assignning it to the variable \"df\"\n",
    "file_path = r\"C:\\Users\\lenovo\\Documents\\EdaProjects\\iris.data\"\n",
    "df = pd.read_csv(file_path, header=None)"
   ]
  },
  {
   "cell_type": "code",
   "execution_count": 4,
   "id": "49caa8ce",
   "metadata": {},
   "outputs": [
    {
     "name": "stdout",
     "output_type": "stream",
     "text": [
      "The first 5 rows of the dataframe are: \n",
      "     0    1    2    3            4\n",
      "0  5.1  3.5  1.4  0.2  Iris-setosa\n",
      "1  4.9  3.0  1.4  0.2  Iris-setosa\n",
      "2  4.7  3.2  1.3  0.2  Iris-setosa\n",
      "3  4.6  3.1  1.5  0.2  Iris-setosa\n",
      "4  5.0  3.6  1.4  0.2  Iris-setosa\n"
     ]
    }
   ],
   "source": [
    "#looking at the first few rows of the dataframe\n",
    "print('The first 5 rows of the dataframe are: ')\n",
    "print(df.head())"
   ]
  },
  {
   "cell_type": "code",
   "execution_count": 5,
   "id": "c2ec2091",
   "metadata": {},
   "outputs": [
    {
     "data": {
      "text/html": [
       "<div>\n",
       "<style scoped>\n",
       "    .dataframe tbody tr th:only-of-type {\n",
       "        vertical-align: middle;\n",
       "    }\n",
       "\n",
       "    .dataframe tbody tr th {\n",
       "        vertical-align: top;\n",
       "    }\n",
       "\n",
       "    .dataframe thead th {\n",
       "        text-align: right;\n",
       "    }\n",
       "</style>\n",
       "<table border=\"1\" class=\"dataframe\">\n",
       "  <thead>\n",
       "    <tr style=\"text-align: right;\">\n",
       "      <th></th>\n",
       "      <th>0</th>\n",
       "      <th>1</th>\n",
       "      <th>2</th>\n",
       "      <th>3</th>\n",
       "      <th>4</th>\n",
       "    </tr>\n",
       "  </thead>\n",
       "  <tbody>\n",
       "    <tr>\n",
       "      <th>145</th>\n",
       "      <td>6.7</td>\n",
       "      <td>3.0</td>\n",
       "      <td>5.2</td>\n",
       "      <td>2.3</td>\n",
       "      <td>Iris-virginica</td>\n",
       "    </tr>\n",
       "    <tr>\n",
       "      <th>146</th>\n",
       "      <td>6.3</td>\n",
       "      <td>2.5</td>\n",
       "      <td>5.0</td>\n",
       "      <td>1.9</td>\n",
       "      <td>Iris-virginica</td>\n",
       "    </tr>\n",
       "    <tr>\n",
       "      <th>147</th>\n",
       "      <td>6.5</td>\n",
       "      <td>3.0</td>\n",
       "      <td>5.2</td>\n",
       "      <td>2.0</td>\n",
       "      <td>Iris-virginica</td>\n",
       "    </tr>\n",
       "    <tr>\n",
       "      <th>148</th>\n",
       "      <td>6.2</td>\n",
       "      <td>3.4</td>\n",
       "      <td>5.4</td>\n",
       "      <td>2.3</td>\n",
       "      <td>Iris-virginica</td>\n",
       "    </tr>\n",
       "    <tr>\n",
       "      <th>149</th>\n",
       "      <td>5.9</td>\n",
       "      <td>3.0</td>\n",
       "      <td>5.1</td>\n",
       "      <td>1.8</td>\n",
       "      <td>Iris-virginica</td>\n",
       "    </tr>\n",
       "  </tbody>\n",
       "</table>\n",
       "</div>"
      ],
      "text/plain": [
       "       0    1    2    3               4\n",
       "145  6.7  3.0  5.2  2.3  Iris-virginica\n",
       "146  6.3  2.5  5.0  1.9  Iris-virginica\n",
       "147  6.5  3.0  5.2  2.0  Iris-virginica\n",
       "148  6.2  3.4  5.4  2.3  Iris-virginica\n",
       "149  5.9  3.0  5.1  1.8  Iris-virginica"
      ]
     },
     "execution_count": 5,
     "metadata": {},
     "output_type": "execute_result"
    }
   ],
   "source": [
    "#looking at the bottom rows of the datframe\n",
    "df.tail()"
   ]
  },
  {
   "cell_type": "code",
   "execution_count": 6,
   "id": "be00cec8",
   "metadata": {},
   "outputs": [
    {
     "data": {
      "text/plain": [
       "(150, 5)"
      ]
     },
     "execution_count": 6,
     "metadata": {},
     "output_type": "execute_result"
    }
   ],
   "source": [
    "#df.shape shows us the total rows and columns in the dataset\n",
    "df.shape\n"
   ]
  },
  {
   "cell_type": "markdown",
   "id": "324e1465",
   "metadata": {},
   "source": [
    "## Add Headers\n",
    "Take a look at our dataset. Pandas automatically set the header with an integer starting from 0.\n",
    "\n",
    "To better describe our data, we can introduce a header.\n",
    "\n",
    "Thus, we have to add headers manually.\n",
    "\n",
    "First, we create a list __\"headers\"__ that include all column names in order. Then, we use __dataframe.columns = headers__ to replace the headers with the list we created."
   ]
  },
  {
   "cell_type": "code",
   "execution_count": 7,
   "id": "15b5355b",
   "metadata": {},
   "outputs": [
    {
     "name": "stdout",
     "output_type": "stream",
     "text": [
      "Index(['sepal length in cm', 'sepal width in cm', 'petal length in cm',\n",
      "       'petal width in cm', 'class'],\n",
      "      dtype='object')\n"
     ]
    },
    {
     "data": {
      "text/html": [
       "<div>\n",
       "<style scoped>\n",
       "    .dataframe tbody tr th:only-of-type {\n",
       "        vertical-align: middle;\n",
       "    }\n",
       "\n",
       "    .dataframe tbody tr th {\n",
       "        vertical-align: top;\n",
       "    }\n",
       "\n",
       "    .dataframe thead th {\n",
       "        text-align: right;\n",
       "    }\n",
       "</style>\n",
       "<table border=\"1\" class=\"dataframe\">\n",
       "  <thead>\n",
       "    <tr style=\"text-align: right;\">\n",
       "      <th></th>\n",
       "      <th>sepal length in cm</th>\n",
       "      <th>sepal width in cm</th>\n",
       "      <th>petal length in cm</th>\n",
       "      <th>petal width in cm</th>\n",
       "      <th>class</th>\n",
       "    </tr>\n",
       "  </thead>\n",
       "  <tbody>\n",
       "    <tr>\n",
       "      <th>0</th>\n",
       "      <td>5.1</td>\n",
       "      <td>3.5</td>\n",
       "      <td>1.4</td>\n",
       "      <td>0.2</td>\n",
       "      <td>Iris-setosa</td>\n",
       "    </tr>\n",
       "    <tr>\n",
       "      <th>1</th>\n",
       "      <td>4.9</td>\n",
       "      <td>3.0</td>\n",
       "      <td>1.4</td>\n",
       "      <td>0.2</td>\n",
       "      <td>Iris-setosa</td>\n",
       "    </tr>\n",
       "    <tr>\n",
       "      <th>2</th>\n",
       "      <td>4.7</td>\n",
       "      <td>3.2</td>\n",
       "      <td>1.3</td>\n",
       "      <td>0.2</td>\n",
       "      <td>Iris-setosa</td>\n",
       "    </tr>\n",
       "    <tr>\n",
       "      <th>3</th>\n",
       "      <td>4.6</td>\n",
       "      <td>3.1</td>\n",
       "      <td>1.5</td>\n",
       "      <td>0.2</td>\n",
       "      <td>Iris-setosa</td>\n",
       "    </tr>\n",
       "    <tr>\n",
       "      <th>4</th>\n",
       "      <td>5.0</td>\n",
       "      <td>3.6</td>\n",
       "      <td>1.4</td>\n",
       "      <td>0.2</td>\n",
       "      <td>Iris-setosa</td>\n",
       "    </tr>\n",
       "  </tbody>\n",
       "</table>\n",
       "</div>"
      ],
      "text/plain": [
       "   sepal length in cm  sepal width in cm  petal length in cm  \\\n",
       "0                 5.1                3.5                 1.4   \n",
       "1                 4.9                3.0                 1.4   \n",
       "2                 4.7                3.2                 1.3   \n",
       "3                 4.6                3.1                 1.5   \n",
       "4                 5.0                3.6                 1.4   \n",
       "\n",
       "   petal width in cm        class  \n",
       "0                0.2  Iris-setosa  \n",
       "1                0.2  Iris-setosa  \n",
       "2                0.2  Iris-setosa  \n",
       "3                0.2  Iris-setosa  \n",
       "4                0.2  Iris-setosa  "
      ]
     },
     "execution_count": 7,
     "metadata": {},
     "output_type": "execute_result"
    }
   ],
   "source": [
    "#creating headers list\n",
    "headers = ['sepal length in cm', 'sepal width in cm', 'petal length in cm', 'petal width in cm', 'class']\n",
    "df.columns = headers\n",
    "print(df.columns)\n",
    "df.head()"
   ]
  },
  {
   "cell_type": "markdown",
   "id": "612a2b88",
   "metadata": {},
   "source": [
    "## Missing Values \n",
    "We will check if our data contains any missing values or not. Missing values can occur when no information is provided for one or more items or for a whole unit. We will use the __isnull() method__."
   ]
  },
  {
   "cell_type": "code",
   "execution_count": 8,
   "id": "ea53fcc5",
   "metadata": {},
   "outputs": [
    {
     "data": {
      "text/plain": [
       "sepal length in cm    0\n",
       "sepal width in cm     0\n",
       "petal length in cm    0\n",
       "petal width in cm     0\n",
       "class                 0\n",
       "dtype: int64"
      ]
     },
     "execution_count": 8,
     "metadata": {},
     "output_type": "execute_result"
    }
   ],
   "source": [
    "#to check for NULL values \n",
    "df.isnull().sum()"
   ]
  },
  {
   "cell_type": "markdown",
   "id": "eaedf84d",
   "metadata": {},
   "source": [
    "We see that the data has __no missing value.__"
   ]
  },
  {
   "cell_type": "markdown",
   "id": "144b0163",
   "metadata": {},
   "source": [
    "## Checking for duplicates\n",
    "\n",
    "We use pandas method: __drop_duplicates()__ to check if our data has any duplicate values."
   ]
  },
  {
   "cell_type": "code",
   "execution_count": 9,
   "id": "c6d461f0",
   "metadata": {},
   "outputs": [
    {
     "data": {
      "text/html": [
       "<div>\n",
       "<style scoped>\n",
       "    .dataframe tbody tr th:only-of-type {\n",
       "        vertical-align: middle;\n",
       "    }\n",
       "\n",
       "    .dataframe tbody tr th {\n",
       "        vertical-align: top;\n",
       "    }\n",
       "\n",
       "    .dataframe thead th {\n",
       "        text-align: right;\n",
       "    }\n",
       "</style>\n",
       "<table border=\"1\" class=\"dataframe\">\n",
       "  <thead>\n",
       "    <tr style=\"text-align: right;\">\n",
       "      <th></th>\n",
       "      <th>sepal length in cm</th>\n",
       "      <th>sepal width in cm</th>\n",
       "      <th>petal length in cm</th>\n",
       "      <th>petal width in cm</th>\n",
       "      <th>class</th>\n",
       "    </tr>\n",
       "  </thead>\n",
       "  <tbody>\n",
       "    <tr>\n",
       "      <th>0</th>\n",
       "      <td>5.1</td>\n",
       "      <td>3.5</td>\n",
       "      <td>1.4</td>\n",
       "      <td>0.2</td>\n",
       "      <td>Iris-setosa</td>\n",
       "    </tr>\n",
       "    <tr>\n",
       "      <th>50</th>\n",
       "      <td>7.0</td>\n",
       "      <td>3.2</td>\n",
       "      <td>4.7</td>\n",
       "      <td>1.4</td>\n",
       "      <td>Iris-versicolor</td>\n",
       "    </tr>\n",
       "    <tr>\n",
       "      <th>100</th>\n",
       "      <td>6.3</td>\n",
       "      <td>3.3</td>\n",
       "      <td>6.0</td>\n",
       "      <td>2.5</td>\n",
       "      <td>Iris-virginica</td>\n",
       "    </tr>\n",
       "  </tbody>\n",
       "</table>\n",
       "</div>"
      ],
      "text/plain": [
       "     sepal length in cm  sepal width in cm  petal length in cm  \\\n",
       "0                   5.1                3.5                 1.4   \n",
       "50                  7.0                3.2                 4.7   \n",
       "100                 6.3                3.3                 6.0   \n",
       "\n",
       "     petal width in cm            class  \n",
       "0                  0.2      Iris-setosa  \n",
       "50                 1.4  Iris-versicolor  \n",
       "100                2.5   Iris-virginica  "
      ]
     },
     "execution_count": 9,
     "metadata": {},
     "output_type": "execute_result"
    }
   ],
   "source": [
    "#to see if the data has duplicates and to drop them\n",
    "data = df.drop_duplicates(subset='class')\n",
    "data"
   ]
  },
  {
   "cell_type": "markdown",
   "id": "3c0cfc0e",
   "metadata": {},
   "source": [
    "We see that our dataset has three unique species of iris flower. Let us further see if they all have entries i.e. if the data is balanced or not. We do this by pandas method: __value_counts()__ and it'll return a series containing count of all the unique values."
   ]
  },
  {
   "cell_type": "code",
   "execution_count": 10,
   "id": "728175ca",
   "metadata": {},
   "outputs": [
    {
     "data": {
      "text/plain": [
       "class\n",
       "Iris-setosa        50\n",
       "Iris-versicolor    50\n",
       "Iris-virginica     50\n",
       "dtype: int64"
      ]
     },
     "execution_count": 10,
     "metadata": {},
     "output_type": "execute_result"
    }
   ],
   "source": [
    "df.value_counts('class')"
   ]
  },
  {
   "cell_type": "markdown",
   "id": "eea413a8",
   "metadata": {},
   "source": [
    "As seen in the output, all the species have __equal amount of rows.__"
   ]
  },
  {
   "cell_type": "markdown",
   "id": "a2a7128d",
   "metadata": {},
   "source": [
    "## Basic Insight of Dataset\n",
    "It is time for us to explore the dataset.\n",
    "We'll use several ways to obtain essential insights of the data to help us better understand our dataset."
   ]
  },
  {
   "cell_type": "markdown",
   "id": "0b21e213",
   "metadata": {},
   "source": [
    "## Data Types\n",
    "Data has a variety of types.\n",
    "The main types stored in Pandas dataframes are __object, float, int, bool__ and __datetime64__. In order to better learn about each attribute, it is always good for us to know the data type of each column. We check that by using __.dtypes\"__ which return a series with the datatype of each column."
   ]
  },
  {
   "cell_type": "code",
   "execution_count": 11,
   "id": "de40cbf9",
   "metadata": {},
   "outputs": [
    {
     "data": {
      "text/plain": [
       "sepal length in cm    float64\n",
       "sepal width in cm     float64\n",
       "petal length in cm    float64\n",
       "petal width in cm     float64\n",
       "class                  object\n",
       "dtype: object"
      ]
     },
     "execution_count": 11,
     "metadata": {},
     "output_type": "execute_result"
    }
   ],
   "source": [
    "df.dtypes"
   ]
  },
  {
   "cell_type": "markdown",
   "id": "6c6f13bf",
   "metadata": {},
   "source": [
    "As we can see above, all the columns have correct data type so there is no need to do any changes."
   ]
  },
  {
   "cell_type": "markdown",
   "id": "d0bd0966",
   "metadata": {},
   "source": [
    "## Describe\n",
    "To get the statistical summary of each column e.g. count, column mean value, column standard deviation, etc., we use the describe method:\n",
    "__dataframe.describe()___\n",
    "This method will provide various summary statistics, excluding NaN (Not a Number) values. "
   ]
  },
  {
   "cell_type": "code",
   "execution_count": 12,
   "id": "64ad86ee",
   "metadata": {},
   "outputs": [
    {
     "data": {
      "text/html": [
       "<div>\n",
       "<style scoped>\n",
       "    .dataframe tbody tr th:only-of-type {\n",
       "        vertical-align: middle;\n",
       "    }\n",
       "\n",
       "    .dataframe tbody tr th {\n",
       "        vertical-align: top;\n",
       "    }\n",
       "\n",
       "    .dataframe thead th {\n",
       "        text-align: right;\n",
       "    }\n",
       "</style>\n",
       "<table border=\"1\" class=\"dataframe\">\n",
       "  <thead>\n",
       "    <tr style=\"text-align: right;\">\n",
       "      <th></th>\n",
       "      <th>sepal length in cm</th>\n",
       "      <th>sepal width in cm</th>\n",
       "      <th>petal length in cm</th>\n",
       "      <th>petal width in cm</th>\n",
       "    </tr>\n",
       "  </thead>\n",
       "  <tbody>\n",
       "    <tr>\n",
       "      <th>count</th>\n",
       "      <td>150.000000</td>\n",
       "      <td>150.000000</td>\n",
       "      <td>150.000000</td>\n",
       "      <td>150.000000</td>\n",
       "    </tr>\n",
       "    <tr>\n",
       "      <th>mean</th>\n",
       "      <td>5.843333</td>\n",
       "      <td>3.054000</td>\n",
       "      <td>3.758667</td>\n",
       "      <td>1.198667</td>\n",
       "    </tr>\n",
       "    <tr>\n",
       "      <th>std</th>\n",
       "      <td>0.828066</td>\n",
       "      <td>0.433594</td>\n",
       "      <td>1.764420</td>\n",
       "      <td>0.763161</td>\n",
       "    </tr>\n",
       "    <tr>\n",
       "      <th>min</th>\n",
       "      <td>4.300000</td>\n",
       "      <td>2.000000</td>\n",
       "      <td>1.000000</td>\n",
       "      <td>0.100000</td>\n",
       "    </tr>\n",
       "    <tr>\n",
       "      <th>25%</th>\n",
       "      <td>5.100000</td>\n",
       "      <td>2.800000</td>\n",
       "      <td>1.600000</td>\n",
       "      <td>0.300000</td>\n",
       "    </tr>\n",
       "    <tr>\n",
       "      <th>50%</th>\n",
       "      <td>5.800000</td>\n",
       "      <td>3.000000</td>\n",
       "      <td>4.350000</td>\n",
       "      <td>1.300000</td>\n",
       "    </tr>\n",
       "    <tr>\n",
       "      <th>75%</th>\n",
       "      <td>6.400000</td>\n",
       "      <td>3.300000</td>\n",
       "      <td>5.100000</td>\n",
       "      <td>1.800000</td>\n",
       "    </tr>\n",
       "    <tr>\n",
       "      <th>max</th>\n",
       "      <td>7.900000</td>\n",
       "      <td>4.400000</td>\n",
       "      <td>6.900000</td>\n",
       "      <td>2.500000</td>\n",
       "    </tr>\n",
       "  </tbody>\n",
       "</table>\n",
       "</div>"
      ],
      "text/plain": [
       "       sepal length in cm  sepal width in cm  petal length in cm  \\\n",
       "count          150.000000         150.000000          150.000000   \n",
       "mean             5.843333           3.054000            3.758667   \n",
       "std              0.828066           0.433594            1.764420   \n",
       "min              4.300000           2.000000            1.000000   \n",
       "25%              5.100000           2.800000            1.600000   \n",
       "50%              5.800000           3.000000            4.350000   \n",
       "75%              6.400000           3.300000            5.100000   \n",
       "max              7.900000           4.400000            6.900000   \n",
       "\n",
       "       petal width in cm  \n",
       "count         150.000000  \n",
       "mean            1.198667  \n",
       "std             0.763161  \n",
       "min             0.100000  \n",
       "25%             0.300000  \n",
       "50%             1.300000  \n",
       "75%             1.800000  \n",
       "max             2.500000  "
      ]
     },
     "execution_count": 12,
     "metadata": {},
     "output_type": "execute_result"
    }
   ],
   "source": [
    "df.describe()"
   ]
  },
  {
   "cell_type": "markdown",
   "id": "dd41242d",
   "metadata": {},
   "source": [
    "However, if we would also like to check all the columns including those that are of type object\n",
    ",we can add an argument __include = \"all\"__ inside the bracket. Let's try it again."
   ]
  },
  {
   "cell_type": "code",
   "execution_count": 13,
   "id": "df3c315d",
   "metadata": {},
   "outputs": [
    {
     "data": {
      "text/html": [
       "<div>\n",
       "<style scoped>\n",
       "    .dataframe tbody tr th:only-of-type {\n",
       "        vertical-align: middle;\n",
       "    }\n",
       "\n",
       "    .dataframe tbody tr th {\n",
       "        vertical-align: top;\n",
       "    }\n",
       "\n",
       "    .dataframe thead th {\n",
       "        text-align: right;\n",
       "    }\n",
       "</style>\n",
       "<table border=\"1\" class=\"dataframe\">\n",
       "  <thead>\n",
       "    <tr style=\"text-align: right;\">\n",
       "      <th></th>\n",
       "      <th>sepal length in cm</th>\n",
       "      <th>sepal width in cm</th>\n",
       "      <th>petal length in cm</th>\n",
       "      <th>petal width in cm</th>\n",
       "      <th>class</th>\n",
       "    </tr>\n",
       "  </thead>\n",
       "  <tbody>\n",
       "    <tr>\n",
       "      <th>count</th>\n",
       "      <td>150.000000</td>\n",
       "      <td>150.000000</td>\n",
       "      <td>150.000000</td>\n",
       "      <td>150.000000</td>\n",
       "      <td>150</td>\n",
       "    </tr>\n",
       "    <tr>\n",
       "      <th>unique</th>\n",
       "      <td>NaN</td>\n",
       "      <td>NaN</td>\n",
       "      <td>NaN</td>\n",
       "      <td>NaN</td>\n",
       "      <td>3</td>\n",
       "    </tr>\n",
       "    <tr>\n",
       "      <th>top</th>\n",
       "      <td>NaN</td>\n",
       "      <td>NaN</td>\n",
       "      <td>NaN</td>\n",
       "      <td>NaN</td>\n",
       "      <td>Iris-setosa</td>\n",
       "    </tr>\n",
       "    <tr>\n",
       "      <th>freq</th>\n",
       "      <td>NaN</td>\n",
       "      <td>NaN</td>\n",
       "      <td>NaN</td>\n",
       "      <td>NaN</td>\n",
       "      <td>50</td>\n",
       "    </tr>\n",
       "    <tr>\n",
       "      <th>mean</th>\n",
       "      <td>5.843333</td>\n",
       "      <td>3.054000</td>\n",
       "      <td>3.758667</td>\n",
       "      <td>1.198667</td>\n",
       "      <td>NaN</td>\n",
       "    </tr>\n",
       "    <tr>\n",
       "      <th>std</th>\n",
       "      <td>0.828066</td>\n",
       "      <td>0.433594</td>\n",
       "      <td>1.764420</td>\n",
       "      <td>0.763161</td>\n",
       "      <td>NaN</td>\n",
       "    </tr>\n",
       "    <tr>\n",
       "      <th>min</th>\n",
       "      <td>4.300000</td>\n",
       "      <td>2.000000</td>\n",
       "      <td>1.000000</td>\n",
       "      <td>0.100000</td>\n",
       "      <td>NaN</td>\n",
       "    </tr>\n",
       "    <tr>\n",
       "      <th>25%</th>\n",
       "      <td>5.100000</td>\n",
       "      <td>2.800000</td>\n",
       "      <td>1.600000</td>\n",
       "      <td>0.300000</td>\n",
       "      <td>NaN</td>\n",
       "    </tr>\n",
       "    <tr>\n",
       "      <th>50%</th>\n",
       "      <td>5.800000</td>\n",
       "      <td>3.000000</td>\n",
       "      <td>4.350000</td>\n",
       "      <td>1.300000</td>\n",
       "      <td>NaN</td>\n",
       "    </tr>\n",
       "    <tr>\n",
       "      <th>75%</th>\n",
       "      <td>6.400000</td>\n",
       "      <td>3.300000</td>\n",
       "      <td>5.100000</td>\n",
       "      <td>1.800000</td>\n",
       "      <td>NaN</td>\n",
       "    </tr>\n",
       "    <tr>\n",
       "      <th>max</th>\n",
       "      <td>7.900000</td>\n",
       "      <td>4.400000</td>\n",
       "      <td>6.900000</td>\n",
       "      <td>2.500000</td>\n",
       "      <td>NaN</td>\n",
       "    </tr>\n",
       "  </tbody>\n",
       "</table>\n",
       "</div>"
      ],
      "text/plain": [
       "        sepal length in cm  sepal width in cm  petal length in cm  \\\n",
       "count           150.000000         150.000000          150.000000   \n",
       "unique                 NaN                NaN                 NaN   \n",
       "top                    NaN                NaN                 NaN   \n",
       "freq                   NaN                NaN                 NaN   \n",
       "mean              5.843333           3.054000            3.758667   \n",
       "std               0.828066           0.433594            1.764420   \n",
       "min               4.300000           2.000000            1.000000   \n",
       "25%               5.100000           2.800000            1.600000   \n",
       "50%               5.800000           3.000000            4.350000   \n",
       "75%               6.400000           3.300000            5.100000   \n",
       "max               7.900000           4.400000            6.900000   \n",
       "\n",
       "        petal width in cm        class  \n",
       "count          150.000000          150  \n",
       "unique                NaN            3  \n",
       "top                   NaN  Iris-setosa  \n",
       "freq                  NaN           50  \n",
       "mean             1.198667          NaN  \n",
       "std              0.763161          NaN  \n",
       "min              0.100000          NaN  \n",
       "25%              0.300000          NaN  \n",
       "50%              1.300000          NaN  \n",
       "75%              1.800000          NaN  \n",
       "max              2.500000          NaN  "
      ]
     },
     "execution_count": 13,
     "metadata": {},
     "output_type": "execute_result"
    }
   ],
   "source": [
    "df.describe(include='all')"
   ]
  },
  {
   "cell_type": "markdown",
   "id": "0900e0fe",
   "metadata": {},
   "source": [
    "Now it provides the statistical summary of all the columns, including object-typed attributes.\n",
    "We can now see how many unique values there, which one is the top value and the frequency of top value in the object-typed columns.\n",
    "\n",
    "Some values in the table above show as \"NaN\". This is because those numbers are not available regarding a particular column type."
   ]
  },
  {
   "cell_type": "markdown",
   "id": "0095db06",
   "metadata": {},
   "source": [
    "We can also select specefic columns from the dataset and apply __.describe()__ method to those columns to get their statistics."
   ]
  },
  {
   "cell_type": "code",
   "execution_count": 14,
   "id": "1e80de2c",
   "metadata": {},
   "outputs": [
    {
     "data": {
      "text/html": [
       "<div>\n",
       "<style scoped>\n",
       "    .dataframe tbody tr th:only-of-type {\n",
       "        vertical-align: middle;\n",
       "    }\n",
       "\n",
       "    .dataframe tbody tr th {\n",
       "        vertical-align: top;\n",
       "    }\n",
       "\n",
       "    .dataframe thead th {\n",
       "        text-align: right;\n",
       "    }\n",
       "</style>\n",
       "<table border=\"1\" class=\"dataframe\">\n",
       "  <thead>\n",
       "    <tr style=\"text-align: right;\">\n",
       "      <th></th>\n",
       "      <th>sepal length in cm</th>\n",
       "      <th>petal length in cm</th>\n",
       "    </tr>\n",
       "  </thead>\n",
       "  <tbody>\n",
       "    <tr>\n",
       "      <th>count</th>\n",
       "      <td>150.000000</td>\n",
       "      <td>150.000000</td>\n",
       "    </tr>\n",
       "    <tr>\n",
       "      <th>mean</th>\n",
       "      <td>5.843333</td>\n",
       "      <td>3.758667</td>\n",
       "    </tr>\n",
       "    <tr>\n",
       "      <th>std</th>\n",
       "      <td>0.828066</td>\n",
       "      <td>1.764420</td>\n",
       "    </tr>\n",
       "    <tr>\n",
       "      <th>min</th>\n",
       "      <td>4.300000</td>\n",
       "      <td>1.000000</td>\n",
       "    </tr>\n",
       "    <tr>\n",
       "      <th>25%</th>\n",
       "      <td>5.100000</td>\n",
       "      <td>1.600000</td>\n",
       "    </tr>\n",
       "    <tr>\n",
       "      <th>50%</th>\n",
       "      <td>5.800000</td>\n",
       "      <td>4.350000</td>\n",
       "    </tr>\n",
       "    <tr>\n",
       "      <th>75%</th>\n",
       "      <td>6.400000</td>\n",
       "      <td>5.100000</td>\n",
       "    </tr>\n",
       "    <tr>\n",
       "      <th>max</th>\n",
       "      <td>7.900000</td>\n",
       "      <td>6.900000</td>\n",
       "    </tr>\n",
       "  </tbody>\n",
       "</table>\n",
       "</div>"
      ],
      "text/plain": [
       "       sepal length in cm  petal length in cm\n",
       "count          150.000000          150.000000\n",
       "mean             5.843333            3.758667\n",
       "std              0.828066            1.764420\n",
       "min              4.300000            1.000000\n",
       "25%              5.100000            1.600000\n",
       "50%              5.800000            4.350000\n",
       "75%              6.400000            5.100000\n",
       "max              7.900000            6.900000"
      ]
     },
     "execution_count": 14,
     "metadata": {},
     "output_type": "execute_result"
    }
   ],
   "source": [
    "df[['sepal length in cm', 'petal length in cm']].describe()"
   ]
  },
  {
   "cell_type": "markdown",
   "id": "effad5ee",
   "metadata": {},
   "source": [
    "## Info\n",
    "Another method you can use to check your dataset is:\n",
    "__dataframe.info()__\n",
    "It provides a concise summary of your DataFrame.\n",
    "\n",
    "This method prints information about a DataFrame including the index dtype and columns, non-null values and memory usage"
   ]
  },
  {
   "cell_type": "code",
   "execution_count": 15,
   "id": "458df8b5",
   "metadata": {},
   "outputs": [
    {
     "data": {
      "text/plain": [
       "<bound method DataFrame.info of      sepal length in cm  sepal width in cm  petal length in cm  \\\n",
       "0                   5.1                3.5                 1.4   \n",
       "1                   4.9                3.0                 1.4   \n",
       "2                   4.7                3.2                 1.3   \n",
       "3                   4.6                3.1                 1.5   \n",
       "4                   5.0                3.6                 1.4   \n",
       "..                  ...                ...                 ...   \n",
       "145                 6.7                3.0                 5.2   \n",
       "146                 6.3                2.5                 5.0   \n",
       "147                 6.5                3.0                 5.2   \n",
       "148                 6.2                3.4                 5.4   \n",
       "149                 5.9                3.0                 5.1   \n",
       "\n",
       "     petal width in cm           class  \n",
       "0                  0.2     Iris-setosa  \n",
       "1                  0.2     Iris-setosa  \n",
       "2                  0.2     Iris-setosa  \n",
       "3                  0.2     Iris-setosa  \n",
       "4                  0.2     Iris-setosa  \n",
       "..                 ...             ...  \n",
       "145                2.3  Iris-virginica  \n",
       "146                1.9  Iris-virginica  \n",
       "147                2.0  Iris-virginica  \n",
       "148                2.3  Iris-virginica  \n",
       "149                1.8  Iris-virginica  \n",
       "\n",
       "[150 rows x 5 columns]>"
      ]
     },
     "execution_count": 15,
     "metadata": {},
     "output_type": "execute_result"
    }
   ],
   "source": [
    "df.info"
   ]
  },
  {
   "cell_type": "markdown",
   "id": "05a06c62",
   "metadata": {},
   "source": [
    "## Saving Dataset\n",
    "Pandas allows us to save our __df__ in the __csv__ file format. We can do this by __.to_csv()__ method. (Here, __index=False__ means that the row names will not be written."
   ]
  },
  {
   "cell_type": "code",
   "execution_count": 16,
   "id": "bc5fcccc",
   "metadata": {},
   "outputs": [],
   "source": [
    "df.to_csv('iris_eda.csv', index=False)"
   ]
  },
  {
   "cell_type": "markdown",
   "id": "5877cc10",
   "metadata": {},
   "source": [
    "## Data Visualization\n"
   ]
  },
  {
   "cell_type": "markdown",
   "id": "fbae7e00",
   "metadata": {},
   "source": [
    "Let's analyze individual feature patterns using visualization. We will use __seaborn__ and __matplotlib__ libraries for this. \n",
    "Let us start by visualizing __class__ column using __countplot.__"
   ]
  },
  {
   "cell_type": "code",
   "execution_count": 18,
   "id": "f883f518",
   "metadata": {},
   "outputs": [],
   "source": [
    "#importing the packages\n",
    "import seaborn as sns\n",
    "import matplotlib.pyplot as plt"
   ]
  },
  {
   "cell_type": "code",
   "execution_count": 19,
   "id": "c9126e6f",
   "metadata": {},
   "outputs": [
    {
     "data": {
      "image/png": "[encoded data removed]",
      "text/plain": [
       "<Figure size 432x288 with 1 Axes>"
      ]
     },
     "metadata": {
      "needs_background": "light"
     },
     "output_type": "display_data"
    }
   ],
   "source": [
    "sns.countplot(x='class', data=df,)\n",
    "plt.show()"
   ]
  },
  {
   "cell_type": "markdown",
   "id": "00a79ab2",
   "metadata": {},
   "source": [
    "Let's study the __correlation__ between different variables in the dataframe."
   ]
  },
  {
   "cell_type": "code",
   "execution_count": 20,
   "id": "fda36f78",
   "metadata": {},
   "outputs": [
    {
     "data": {
      "text/html": [
       "<div>\n",
       "<style scoped>\n",
       "    .dataframe tbody tr th:only-of-type {\n",
       "        vertical-align: middle;\n",
       "    }\n",
       "\n",
       "    .dataframe tbody tr th {\n",
       "        vertical-align: top;\n",
       "    }\n",
       "\n",
       "    .dataframe thead th {\n",
       "        text-align: right;\n",
       "    }\n",
       "</style>\n",
       "<table border=\"1\" class=\"dataframe\">\n",
       "  <thead>\n",
       "    <tr style=\"text-align: right;\">\n",
       "      <th></th>\n",
       "      <th>sepal length in cm</th>\n",
       "      <th>sepal width in cm</th>\n",
       "      <th>petal length in cm</th>\n",
       "      <th>petal width in cm</th>\n",
       "    </tr>\n",
       "  </thead>\n",
       "  <tbody>\n",
       "    <tr>\n",
       "      <th>sepal length in cm</th>\n",
       "      <td>1.000000</td>\n",
       "      <td>-0.109369</td>\n",
       "      <td>0.871754</td>\n",
       "      <td>0.817954</td>\n",
       "    </tr>\n",
       "    <tr>\n",
       "      <th>sepal width in cm</th>\n",
       "      <td>-0.109369</td>\n",
       "      <td>1.000000</td>\n",
       "      <td>-0.420516</td>\n",
       "      <td>-0.356544</td>\n",
       "    </tr>\n",
       "    <tr>\n",
       "      <th>petal length in cm</th>\n",
       "      <td>0.871754</td>\n",
       "      <td>-0.420516</td>\n",
       "      <td>1.000000</td>\n",
       "      <td>0.962757</td>\n",
       "    </tr>\n",
       "    <tr>\n",
       "      <th>petal width in cm</th>\n",
       "      <td>0.817954</td>\n",
       "      <td>-0.356544</td>\n",
       "      <td>0.962757</td>\n",
       "      <td>1.000000</td>\n",
       "    </tr>\n",
       "  </tbody>\n",
       "</table>\n",
       "</div>"
      ],
      "text/plain": [
       "                    sepal length in cm  sepal width in cm  petal length in cm  \\\n",
       "sepal length in cm            1.000000          -0.109369            0.871754   \n",
       "sepal width in cm            -0.109369           1.000000           -0.420516   \n",
       "petal length in cm            0.871754          -0.420516            1.000000   \n",
       "petal width in cm             0.817954          -0.356544            0.962757   \n",
       "\n",
       "                    petal width in cm  \n",
       "sepal length in cm           0.817954  \n",
       "sepal width in cm           -0.356544  \n",
       "petal length in cm           0.962757  \n",
       "petal width in cm            1.000000  "
      ]
     },
     "execution_count": 20,
     "metadata": {},
     "output_type": "execute_result"
    }
   ],
   "source": [
    "df.corr()"
   ]
  },
  {
   "cell_type": "markdown",
   "id": "0c14a2f8",
   "metadata": {},
   "source": [
    "__Heatmap__ is a data visualization technique that is used to analyze the dataset as colors in two dimensions. \n",
    "Basically, it shows a correlation between all numerical variables in the dataset.\n",
    "So, we plot the above-found correlation using the heatmaps."
   ]
  },
  {
   "cell_type": "code",
   "execution_count": 21,
   "id": "ca84ed50",
   "metadata": {},
   "outputs": [
    {
     "data": {
      "image/png": "[encoded data removed]",
      "text/plain": [
       "<Figure size 432x288 with 2 Axes>"
      ]
     },
     "metadata": {
      "needs_background": "light"
     },
     "output_type": "display_data"
    }
   ],
   "source": [
    "sns.heatmap(df.corr(), cmap=\"YlGnBu\", annot=True)\n",
    "plt.show()"
   ]
  },
  {
   "cell_type": "markdown",
   "id": "05721812",
   "metadata": {},
   "source": [
    "From the above graph, we can see that\n",
    "\n",
    "1. Petal width and petal length have __high correlation.__\n",
    "2. Petal length and sepal width have __good correlations.__\n",
    "3. Petal Width and Sepal length have __good correlations.__"
   ]
  },
  {
   "cell_type": "markdown",
   "id": "8e1895b3",
   "metadata": {},
   "source": [
    "## Linear relationships\n",
    "In order to start understanding the (linear) relationship between an variables, we can use \"regplot\" which plots the scatterplot plus the fitted regression line for the data. Let's find the scatter plot between __sepal length__ and __sepal width.__"
   ]
  },
  {
   "cell_type": "code",
   "execution_count": 22,
   "id": "28085310",
   "metadata": {},
   "outputs": [
    {
     "data": {
      "text/plain": [
       "<AxesSubplot:xlabel='sepal length in cm', ylabel='sepal width in cm'>"
      ]
     },
     "execution_count": 22,
     "metadata": {},
     "output_type": "execute_result"
    },
    {
     "data": {
      "image/png": "[encoded data removed]",
      "text/plain": [
       "<Figure size 432x288 with 1 Axes>"
      ]
     },
     "metadata": {
      "needs_background": "light"
     },
     "output_type": "display_data"
    }
   ],
   "source": [
    "#to see the relationship between sepal length and sepal width \n",
    "import seaborn as sns \n",
    "import matplotlib.pyplot as plt\n",
    "sns.regplot(x='sepal length in cm', y='sepal width in cm',data=df)\n",
    "#lt.ylim(0,)"
   ]
  },
  {
   "cell_type": "markdown",
   "id": "420ee9b7",
   "metadata": {},
   "source": [
    "The regression line in the plot is close to the horizontal. Also, the data points are scattered and far from the fitted line, showing lots of variability."
   ]
  },
  {
   "cell_type": "markdown",
   "id": "d8e7106d",
   "metadata": {},
   "source": [
    "Let's find the scatter plot for __petal length__ and __petal width__."
   ]
  },
  {
   "cell_type": "code",
   "execution_count": 23,
   "id": "a172c335",
   "metadata": {},
   "outputs": [
    {
     "data": {
      "text/plain": [
       "(0.0, 2.7199834388192823)"
      ]
     },
     "execution_count": 23,
     "metadata": {},
     "output_type": "execute_result"
    },
    {
     "data": {
      "image/png": "[encoded data removed]",
      "text/plain": [
       "<Figure size 432x288 with 1 Axes>"
      ]
     },
     "metadata": {
      "needs_background": "light"
     },
     "output_type": "display_data"
    }
   ],
   "source": [
    "sns.regplot(x='petal length in cm', y='petal width in cm',data=df)\n",
    "plt.ylim(0,)"
   ]
  },
  {
   "cell_type": "markdown",
   "id": "ebd071d2",
   "metadata": {},
   "source": [
    "We see a __positive__ linear relationship between these two variables as: the petal length increases with the in petal width."
   ]
  },
  {
   "cell_type": "code",
   "execution_count": 24,
   "id": "5a15b42d",
   "metadata": {},
   "outputs": [
    {
     "data": {
      "text/plain": [
       "<AxesSubplot:xlabel='class', ylabel='petal length in cm'>"
      ]
     },
     "execution_count": 24,
     "metadata": {},
     "output_type": "execute_result"
    },
    {
     "data": {
      "image/png": "[encoded data removed]",
      "text/plain": [
       "<Figure size 720x720 with 4 Axes>"
      ]
     },
     "metadata": {
      "needs_background": "light"
     },
     "output_type": "display_data"
    }
   ],
   "source": [
    "#we can use boxplot to see how the categorical values i.e. class vary with other numerical values\n",
    "\n",
    "plt.figure(figsize=(10,10))\n",
    "\n",
    "#adding the subplots at specified grid location\n",
    "plt.subplot(221)\n",
    "sns.boxplot(x='class', y='sepal length in cm', data=df)\n",
    "\n",
    "plt.subplot(222)\n",
    "sns.boxplot(x='class', y='sepal width in cm', data=df)\n",
    "\n",
    "plt.subplot(223)\n",
    "sns.boxplot(x='class', y='petal length in cm', data=df)\n",
    "\n",
    "plt.subplot(224)\n",
    "sns.boxplot(x='class', y='petal length in cm', data=df)\n",
    "\n"
   ]
  },
  {
   "cell_type": "markdown",
   "id": "38cc8d32",
   "metadata": {},
   "source": [
    "From the above graph, we can see that:\n",
    "1. __Class Setosa__ has the smallest features and less distributed with some outliers.\n",
    "2. __Class Versicolor__ has the average features.\n",
    "3. __Class Virginica__ has the highest features."
   ]
  },
  {
   "cell_type": "markdown",
   "id": "492e1a6e",
   "metadata": {},
   "source": [
    "Let's calculate the __average sepal__ length & width, petal length & width of different iris species.\n"
   ]
  },
  {
   "cell_type": "code",
   "execution_count": 25,
   "id": "971262bc",
   "metadata": {},
   "outputs": [
    {
     "data": {
      "text/html": [
       "<div>\n",
       "<style scoped>\n",
       "    .dataframe tbody tr th:only-of-type {\n",
       "        vertical-align: middle;\n",
       "    }\n",
       "\n",
       "    .dataframe tbody tr th {\n",
       "        vertical-align: top;\n",
       "    }\n",
       "\n",
       "    .dataframe thead th {\n",
       "        text-align: right;\n",
       "    }\n",
       "</style>\n",
       "<table border=\"1\" class=\"dataframe\">\n",
       "  <thead>\n",
       "    <tr style=\"text-align: right;\">\n",
       "      <th></th>\n",
       "      <th>class</th>\n",
       "      <th>sepal length in cm</th>\n",
       "    </tr>\n",
       "  </thead>\n",
       "  <tbody>\n",
       "    <tr>\n",
       "      <th>0</th>\n",
       "      <td>Iris-setosa</td>\n",
       "      <td>5.006</td>\n",
       "    </tr>\n",
       "    <tr>\n",
       "      <th>1</th>\n",
       "      <td>Iris-versicolor</td>\n",
       "      <td>5.936</td>\n",
       "    </tr>\n",
       "    <tr>\n",
       "      <th>2</th>\n",
       "      <td>Iris-virginica</td>\n",
       "      <td>6.588</td>\n",
       "    </tr>\n",
       "  </tbody>\n",
       "</table>\n",
       "</div>"
      ],
      "text/plain": [
       "             class  sepal length in cm\n",
       "0      Iris-setosa               5.006\n",
       "1  Iris-versicolor               5.936\n",
       "2   Iris-virginica               6.588"
      ]
     },
     "execution_count": 25,
     "metadata": {},
     "output_type": "execute_result"
    }
   ],
   "source": [
    "df_group = df[['class', 'sepal length in cm']]\n",
    "df_group_test = df_group.groupby(['class'], as_index=False).mean()\n",
    "df_group_test"
   ]
  },
  {
   "cell_type": "code",
   "execution_count": 26,
   "id": "9dc6e854",
   "metadata": {},
   "outputs": [
    {
     "data": {
      "text/html": [
       "<div>\n",
       "<style scoped>\n",
       "    .dataframe tbody tr th:only-of-type {\n",
       "        vertical-align: middle;\n",
       "    }\n",
       "\n",
       "    .dataframe tbody tr th {\n",
       "        vertical-align: top;\n",
       "    }\n",
       "\n",
       "    .dataframe thead th {\n",
       "        text-align: right;\n",
       "    }\n",
       "</style>\n",
       "<table border=\"1\" class=\"dataframe\">\n",
       "  <thead>\n",
       "    <tr style=\"text-align: right;\">\n",
       "      <th></th>\n",
       "      <th>class</th>\n",
       "      <th>sepal width in cm</th>\n",
       "    </tr>\n",
       "  </thead>\n",
       "  <tbody>\n",
       "    <tr>\n",
       "      <th>0</th>\n",
       "      <td>Iris-setosa</td>\n",
       "      <td>3.418</td>\n",
       "    </tr>\n",
       "    <tr>\n",
       "      <th>1</th>\n",
       "      <td>Iris-versicolor</td>\n",
       "      <td>2.770</td>\n",
       "    </tr>\n",
       "    <tr>\n",
       "      <th>2</th>\n",
       "      <td>Iris-virginica</td>\n",
       "      <td>2.974</td>\n",
       "    </tr>\n",
       "  </tbody>\n",
       "</table>\n",
       "</div>"
      ],
      "text/plain": [
       "             class  sepal width in cm\n",
       "0      Iris-setosa              3.418\n",
       "1  Iris-versicolor              2.770\n",
       "2   Iris-virginica              2.974"
      ]
     },
     "execution_count": 26,
     "metadata": {},
     "output_type": "execute_result"
    }
   ],
   "source": [
    "df_group = df[['class', 'sepal width in cm']]\n",
    "df_group_test = df_group.groupby(['class'], as_index=False).mean()\n",
    "df_group_test"
   ]
  },
  {
   "cell_type": "code",
   "execution_count": 27,
   "id": "877c3c64",
   "metadata": {},
   "outputs": [
    {
     "data": {
      "text/html": [
       "<div>\n",
       "<style scoped>\n",
       "    .dataframe tbody tr th:only-of-type {\n",
       "        vertical-align: middle;\n",
       "    }\n",
       "\n",
       "    .dataframe tbody tr th {\n",
       "        vertical-align: top;\n",
       "    }\n",
       "\n",
       "    .dataframe thead th {\n",
       "        text-align: right;\n",
       "    }\n",
       "</style>\n",
       "<table border=\"1\" class=\"dataframe\">\n",
       "  <thead>\n",
       "    <tr style=\"text-align: right;\">\n",
       "      <th></th>\n",
       "      <th>class</th>\n",
       "      <th>petal length in cm</th>\n",
       "    </tr>\n",
       "  </thead>\n",
       "  <tbody>\n",
       "    <tr>\n",
       "      <th>0</th>\n",
       "      <td>Iris-setosa</td>\n",
       "      <td>1.464</td>\n",
       "    </tr>\n",
       "    <tr>\n",
       "      <th>1</th>\n",
       "      <td>Iris-versicolor</td>\n",
       "      <td>4.260</td>\n",
       "    </tr>\n",
       "    <tr>\n",
       "      <th>2</th>\n",
       "      <td>Iris-virginica</td>\n",
       "      <td>5.552</td>\n",
       "    </tr>\n",
       "  </tbody>\n",
       "</table>\n",
       "</div>"
      ],
      "text/plain": [
       "             class  petal length in cm\n",
       "0      Iris-setosa               1.464\n",
       "1  Iris-versicolor               4.260\n",
       "2   Iris-virginica               5.552"
      ]
     },
     "execution_count": 27,
     "metadata": {},
     "output_type": "execute_result"
    }
   ],
   "source": [
    "df_group = df[['class', 'petal length in cm']]\n",
    "df_group_test = df_group.groupby(['class'], as_index=False).mean()\n",
    "df_group_test"
   ]
  },
  {
   "cell_type": "code",
   "execution_count": 28,
   "id": "8b913f38",
   "metadata": {},
   "outputs": [
    {
     "data": {
      "text/html": [
       "<div>\n",
       "<style scoped>\n",
       "    .dataframe tbody tr th:only-of-type {\n",
       "        vertical-align: middle;\n",
       "    }\n",
       "\n",
       "    .dataframe tbody tr th {\n",
       "        vertical-align: top;\n",
       "    }\n",
       "\n",
       "    .dataframe thead th {\n",
       "        text-align: right;\n",
       "    }\n",
       "</style>\n",
       "<table border=\"1\" class=\"dataframe\">\n",
       "  <thead>\n",
       "    <tr style=\"text-align: right;\">\n",
       "      <th></th>\n",
       "      <th>class</th>\n",
       "      <th>petal width in cm</th>\n",
       "    </tr>\n",
       "  </thead>\n",
       "  <tbody>\n",
       "    <tr>\n",
       "      <th>0</th>\n",
       "      <td>Iris-setosa</td>\n",
       "      <td>0.244</td>\n",
       "    </tr>\n",
       "    <tr>\n",
       "      <th>1</th>\n",
       "      <td>Iris-versicolor</td>\n",
       "      <td>1.326</td>\n",
       "    </tr>\n",
       "    <tr>\n",
       "      <th>2</th>\n",
       "      <td>Iris-virginica</td>\n",
       "      <td>2.026</td>\n",
       "    </tr>\n",
       "  </tbody>\n",
       "</table>\n",
       "</div>"
      ],
      "text/plain": [
       "             class  petal width in cm\n",
       "0      Iris-setosa              0.244\n",
       "1  Iris-versicolor              1.326\n",
       "2   Iris-virginica              2.026"
      ]
     },
     "execution_count": 28,
     "metadata": {},
     "output_type": "execute_result"
    }
   ],
   "source": [
    "df_group = df[['class', 'petal width in cm']]\n",
    "df_group_test = df_group.groupby(['class'], as_index=False).mean()\n",
    "df_group_test"
   ]
  },
  {
   "cell_type": "markdown",
   "id": "f5b726e9",
   "metadata": {},
   "source": [
    "Let us now compare all three classes of iris flower in the same graph"
   ]
  },
  {
   "cell_type": "markdown",
   "id": "5d815a58",
   "metadata": {},
   "source": [
    "## comparing sepal length and sepal width "
   ]
  },
  {
   "cell_type": "code",
   "execution_count": 29,
   "id": "85891f09",
   "metadata": {},
   "outputs": [
    {
     "data": {
      "image/png": "[encoded data removed]",
      "text/plain": [
       "<Figure size 432x288 with 1 Axes>"
      ]
     },
     "metadata": {
      "needs_background": "light"
     },
     "output_type": "display_data"
    }
   ],
   "source": [
    "sns.scatterplot(x='sepal length in cm', y='sepal width in cm',\n",
    "                hue='class', data=df, )\n",
    " \n",
    "# Placing Legend outside the Figure\n",
    "plt.legend(bbox_to_anchor=(1, 1), loc=2)\n",
    " \n",
    "plt.show()"
   ]
  },
  {
   "cell_type": "markdown",
   "id": "cfc333e9",
   "metadata": {},
   "source": [
    "From the above plot, we can infer that – \n",
    "\n",
    "1. Setosa has smaller sepal lengths but larger sepal widths.\n",
    "2. Versicolor Species lies in the middle of the other two species in terms of sepal length and width\n",
    "3. Virginica has larger sepal lengths but smaller sepal widths."
   ]
  },
  {
   "cell_type": "markdown",
   "id": "a56c2587",
   "metadata": {},
   "source": [
    "## Comparing petal length and petal width "
   ]
  },
  {
   "cell_type": "code",
   "execution_count": 30,
   "id": "3d05fe07",
   "metadata": {},
   "outputs": [
    {
     "data": {
      "image/png": "[encoded data removed]",
      "text/plain": [
       "<Figure size 432x288 with 1 Axes>"
      ]
     },
     "metadata": {
      "needs_background": "light"
     },
     "output_type": "display_data"
    }
   ],
   "source": [
    "sns.scatterplot(x='petal length in cm', y='petal width in cm',\n",
    "                hue='class', data=df, )\n",
    " \n",
    "# Placing Legend outside the Figure\n",
    "plt.legend(bbox_to_anchor=(1, 1), loc=2)\n",
    " \n",
    "plt.show()"
   ]
  },
  {
   "cell_type": "markdown",
   "id": "a78d5fae",
   "metadata": {},
   "source": [
    "From the above plot, we can infer that – \n",
    "\n",
    "1. Setosa has smaller petal lengths and widths.\n",
    "2. Species lies in the middle of the other two species in terms of petal length and width\n",
    "3. Virginica has the largest of petal lengths and widths."
   ]
  }
 ],
 "metadata": {
  "kernelspec": {
   "display_name": "Python 3 (ipykernel)",
   "language": "python",
   "name": "python3"
  },
  "language_info": {
   "codemirror_mode": {
    "name": "ipython",
    "version": 3
   },
   "file_extension": ".py",
   "mimetype": "text/x-python",
   "name": "python",
   "nbconvert_exporter": "python",
   "pygments_lexer": "ipython3",
   "version": "3.9.7"
  }
 },
 "nbformat": 4,
 "nbformat_minor": 5
}
